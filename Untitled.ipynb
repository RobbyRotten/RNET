{
 "cells": [
  {
   "cell_type": "code",
   "execution_count": 1,
   "metadata": {},
   "outputs": [],
   "source": [
    "import pandas as pd\n",
    "import numpy as np"
   ]
  },
  {
   "cell_type": "code",
   "execution_count": 2,
   "metadata": {},
   "outputs": [],
   "source": [
    "path = \"CSV/Ppatens_prot_all_features.csv\"\n",
    "coding = pd.read_csv(path, sep=';')\n",
    "path_1 = \"CSV/Physcomitrella_patens_lncrnas_features.csv\"\n",
    "noncoding = pd.read_csv(path_1, sep=';')"
   ]
  },
  {
   "cell_type": "code",
   "execution_count": 13,
   "metadata": {},
   "outputs": [
    {
     "name": "stdout",
     "output_type": "stream",
     "text": [
      "Unnamed: 0      748.500000\n",
      "GC               44.928686\n",
      "Tr_len         1128.675567\n",
      "ORF_len         163.217623\n",
      "ORF_cov           0.187996\n",
      "Inst_ind         51.796119\n",
      "Fcktt_score       0.021884\n",
      "Opt_cod_frq       0.408626\n",
      "RCB               0.017726\n",
      "RelEntSum         0.848896\n",
      "mnORF_cov         0.030704\n",
      "SCUO             17.148434\n",
      "Hex_score         0.619987\n",
      "dtype: float64 \n",
      " Unnamed: 0     4945.500000\n",
      "GC               47.063892\n",
      "Tr_len         2101.040133\n",
      "ORF_len        1093.256167\n",
      "ORF_cov           0.521047\n",
      "Inst_ind         42.631738\n",
      "Fcktt_score       0.029883\n",
      "Opt_cod_frq       0.370334\n",
      "RCB               0.144041\n",
      "RelEntSum         0.888212\n",
      "mnORF_cov         0.038421\n",
      "SCUO             17.110676\n",
      "Hex_score         0.164826\n",
      "dtype: float64\n"
     ]
    }
   ],
   "source": [
    "print(noncoding.mean(axis=0), '\\n', coding.mean(axis=0))"
   ]
  },
  {
   "cell_type": "code",
   "execution_count": 14,
   "metadata": {},
   "outputs": [
    {
     "name": "stdout",
     "output_type": "stream",
     "text": [
      "Unnamed: 0              0\n",
      "Name           CNT2063571\n",
      "GC                23.6473\n",
      "Tr_len                202\n",
      "ORF_len                 0\n",
      "ORF_cov                 0\n",
      "Inst_ind            -42.9\n",
      "Fcktt_score    0.00667894\n",
      "Opt_cod_frq      0.334416\n",
      "RCB                     0\n",
      "RelEntSum        0.464579\n",
      "mnORF_cov      0.00281985\n",
      "SCUO              16.1512\n",
      "Hex_score       0.0594126\n",
      "dtype: object \n",
      " Unnamed: 0                    0\n",
      "Name           Pp3c10_10040V3.1\n",
      "GC                      26.1905\n",
      "Tr_len                      132\n",
      "ORF_len                      30\n",
      "ORF_cov               0.0655022\n",
      "Inst_ind               -22.3303\n",
      "Fcktt_score          0.00688742\n",
      "Opt_cod_frq            0.324481\n",
      "RCB                  0.00511033\n",
      "RelEntSum              0.521843\n",
      "mnORF_cov            0.00566226\n",
      "SCUO                    13.4702\n",
      "Hex_score             0.0118101\n",
      "dtype: object\n"
     ]
    }
   ],
   "source": [
    "print(noncoding.min(axis=0), '\\n', coding.min(axis=0))"
   ]
  },
  {
   "cell_type": "code",
   "execution_count": 15,
   "metadata": {},
   "outputs": [
    {
     "name": "stdout",
     "output_type": "stream",
     "text": [
      "Unnamed: 0           1497\n",
      "Name           CNT2065068\n",
      "GC                69.1441\n",
      "Tr_len               9951\n",
      "ORF_len              1038\n",
      "ORF_cov          0.952381\n",
      "Inst_ind          195.933\n",
      "Fcktt_score     0.0845505\n",
      "Opt_cod_frq           0.6\n",
      "RCB              0.353553\n",
      "RelEntSum        0.922442\n",
      "mnORF_cov        0.221429\n",
      "SCUO              17.5354\n",
      "Hex_score         2.25283\n",
      "dtype: object \n",
      " Unnamed: 0              9891\n",
      "Name           Pp3s93_30V3.7\n",
      "GC                   65.4994\n",
      "Tr_len                  9135\n",
      "ORF_len                 7278\n",
      "ORF_cov             0.999155\n",
      "Inst_ind             135.229\n",
      "Fcktt_score        0.0837408\n",
      "Opt_cod_frq         0.631579\n",
      "RCB                 0.675438\n",
      "RelEntSum           0.931004\n",
      "mnORF_cov           0.330986\n",
      "SCUO                 17.4028\n",
      "Hex_score           0.384847\n",
      "dtype: object\n"
     ]
    }
   ],
   "source": [
    "print(noncoding.max(axis=0), '\\n', coding.max(axis=0))"
   ]
  },
  {
   "cell_type": "code",
   "execution_count": 17,
   "metadata": {},
   "outputs": [
    {
     "data": {
      "text/plain": [
       "(11390, 14)"
      ]
     },
     "execution_count": 17,
     "metadata": {},
     "output_type": "execute_result"
    }
   ],
   "source": [
    "con = pd.concat([coding, noncoding])\n",
    "con.shape"
   ]
  },
  {
   "cell_type": "code",
   "execution_count": 18,
   "metadata": {},
   "outputs": [
    {
     "name": "stdout",
     "output_type": "stream",
     "text": [
      "Unnamed: 0     4393.515277\n",
      "GC               46.783072\n",
      "Tr_len         1973.155838\n",
      "ORF_len         970.938543\n",
      "ORF_cov           0.477244\n",
      "Inst_ind         43.837027\n",
      "Fcktt_score       0.028831\n",
      "Opt_cod_frq       0.375370\n",
      "RCB               0.127428\n",
      "RelEntSum         0.883041\n",
      "mnORF_cov         0.037424\n",
      "SCUO             17.115642\n",
      "Hex_score         0.224688\n",
      "dtype: float64 \n",
      " Unnamed: 0              0\n",
      "Name           CNT2063571\n",
      "GC                23.6473\n",
      "Tr_len                132\n",
      "ORF_len                 0\n",
      "ORF_cov                 0\n",
      "Inst_ind            -42.9\n",
      "Fcktt_score    0.00667894\n",
      "Opt_cod_frq      0.324481\n",
      "RCB                     0\n",
      "RelEntSum        0.464579\n",
      "mnORF_cov      0.00281985\n",
      "SCUO              13.4702\n",
      "Hex_score       0.0118101\n",
      "dtype: object \n",
      " Unnamed: 0              9891\n",
      "Name           Pp3s93_30V3.7\n",
      "GC                   69.1441\n",
      "Tr_len                  9951\n",
      "ORF_len                 7278\n",
      "ORF_cov             0.999155\n",
      "Inst_ind             195.933\n",
      "Fcktt_score        0.0845505\n",
      "Opt_cod_frq         0.631579\n",
      "RCB                 0.675438\n",
      "RelEntSum           0.931004\n",
      "mnORF_cov           0.330986\n",
      "SCUO                 17.5354\n",
      "Hex_score            2.25283\n",
      "dtype: object\n"
     ]
    }
   ],
   "source": [
    "print(con.mean(axis=0), '\\n', con.min(axis=0), '\\n', con.max(axis=0))"
   ]
  },
  {
   "cell_type": "code",
   "execution_count": 22,
   "metadata": {},
   "outputs": [
    {
     "name": "stdout",
     "output_type": "stream",
     "text": [
      "13\n",
      "4393.515276558384\n",
      "46.78307216803418\n",
      "1973.155838454785\n",
      "970.9385425812115\n",
      "0.4772441903932988\n",
      "43.83702684809195\n",
      "0.02883090006145734\n",
      "0.3753700581211571\n",
      "0.12742843999343276\n",
      "0.8830413127997834\n",
      "0.03742352601370512\n",
      "17.115641742511894\n",
      "0.2246882655730706\n",
      "\n",
      "\n",
      "14\n",
      "9891\n",
      "Pp3s93_30V3.7\n",
      "69.14414414414415\n",
      "9951\n",
      "7278\n",
      "0.9991554054054054\n",
      "195.9333333333333\n",
      "0.0845505\n",
      "0.631579\n",
      "0.6754383732308656\n",
      "0.93100413323957\n",
      "0.3309859154929577\n",
      "17.535421439956426\n",
      "2.252834841995392\n",
      "\n",
      "\n"
     ]
    }
   ],
   "source": [
    "for fr in [con.mean(axis=0), con.max(axis=0)]:\n",
    "    print(len(fr))\n",
    "    for string in fr:\n",
    "        print(string)\n",
    "    print('\\n')"
   ]
  },
  {
   "cell_type": "code",
   "execution_count": null,
   "metadata": {},
   "outputs": [],
   "source": []
  }
 ],
 "metadata": {
  "kernelspec": {
   "display_name": "Python 3",
   "language": "python",
   "name": "python3"
  },
  "language_info": {
   "codemirror_mode": {
    "name": "ipython",
    "version": 3
   },
   "file_extension": ".py",
   "mimetype": "text/x-python",
   "name": "python",
   "nbconvert_exporter": "python",
   "pygments_lexer": "ipython3",
   "version": "3.7.1"
  }
 },
 "nbformat": 4,
 "nbformat_minor": 2
}
